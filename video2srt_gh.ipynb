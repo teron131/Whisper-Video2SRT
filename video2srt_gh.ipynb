{
 "cells": [
  {
   "cell_type": "code",
   "execution_count": null,
   "metadata": {},
   "outputs": [],
   "source": [
    "import os\n",
    "import sys\n",
    "import shutil\n",
    "import whisper\n",
    "from tqdm import tqdm\n",
    "\n",
    "import warnings\n",
    "warnings.filterwarnings(\"ignore\")"
   ]
  },
  {
   "cell_type": "markdown",
   "metadata": {},
   "source": [
    "# Folders Creation"
   ]
  },
  {
   "cell_type": "code",
   "execution_count": null,
   "metadata": {},
   "outputs": [],
   "source": [
    "def get_base_path():\n",
    "    if getattr(sys, 'frozen', False):\n",
    "        # Running in a bundle (executable created by PyInstaller)\n",
    "        return os.path.dirname(sys.executable)\n",
    "    elif '__file__' in globals():\n",
    "        # Running in a script or packaged environment\n",
    "        return os.path.dirname(os.path.abspath(__file__))\n",
    "    else:\n",
    "        # Running in a Jupyter notebook\n",
    "        return os.getcwd()\n",
    "\n",
    "base_path = get_base_path()\n",
    "\n",
    "video_dir = base_path + \"/video_input/\"\n",
    "audio_dir = base_path + \"/audio_output/\"\n",
    "srt_dir = base_path + \"/srt_output/\"\n",
    "source_lang = \"Cantonese\"\n",
    "\n",
    "os.makedirs(audio_dir, exist_ok=True)\n",
    "os.makedirs(srt_dir, exist_ok=True)"
   ]
  },
  {
   "cell_type": "markdown",
   "metadata": {},
   "source": [
    "# Video to Audio: FFmpeg"
   ]
  },
  {
   "cell_type": "code",
   "execution_count": null,
   "metadata": {},
   "outputs": [],
   "source": [
    "def extract_audio_from_video(video_dir, audio_dir):\n",
    "    \"\"\"\n",
    "    Extracts audio from any file in the specified directory using ffmpeg. If the file \n",
    "    is not a video, ffmpeg will return an error. The extracted audio files are saved \n",
    "    in FLAC format in another directory.\n",
    "    \n",
    "    Args:\n",
    "    - video_dir (str): Directory containing the input files.\n",
    "    - audio_dir (str): Directory where the extracted audio files will be saved.\n",
    "\n",
    "    Returns:\n",
    "    - None\n",
    "    \"\"\"\n",
    "    \n",
    "    # Delete the directory and its contents if the directory exists\n",
    "    if os.path.exists(audio_dir):\n",
    "        shutil.rmtree(audio_dir)\n",
    "\n",
    "    # Create the output directory if it doesn't exist\n",
    "    if not os.path.exists(audio_dir):\n",
    "        os.makedirs(audio_dir)\n",
    "\n",
    "    video_files = [f for f in os.listdir(video_dir) if f != '.DS_Store']\n",
    "    for filename in tqdm(video_files, desc=\"Extracting audio\"):\n",
    "        print(filename)\n",
    "        video_file_path = os.path.join(video_dir, filename)\n",
    "        audio_file_name = os.path.splitext(filename)[0] + '.flac'\n",
    "        audio_file_path = os.path.join(audio_dir, audio_file_name)\n",
    "\n",
    "        # Convert video to audio using ffmpeg\n",
    "        os.system(f'ffmpeg -y -i \"{video_file_path}\" -q:a 0 -map a \"{audio_file_path}\" -hide_banner -loglevel error')\n",
    "\n",
    "        print(f\"Extracted audio from video: {filename}\")"
   ]
  },
  {
   "cell_type": "code",
   "execution_count": null,
   "metadata": {},
   "outputs": [],
   "source": [
    "extract_audio_from_video(video_dir=video_dir, audio_dir=audio_dir)"
   ]
  },
  {
   "cell_type": "markdown",
   "metadata": {},
   "source": [
    "# Transcription: Whisper"
   ]
  },
  {
   "cell_type": "code",
   "execution_count": null,
   "metadata": {},
   "outputs": [],
   "source": [
    "def convert_time_to_srt(seconds_float):\n",
    "    \"\"\"Converts a time in seconds to 'hh:mm:ss,ms' format for SRT.\"\"\"\n",
    "    hours, remainder = divmod(seconds_float, 3600)\n",
    "    minutes, seconds = divmod(remainder, 60)\n",
    "    seconds, milliseconds = divmod(seconds, 1)\n",
    "    milliseconds = int(milliseconds * 1000)\n",
    "    return f\"{int(hours):02}:{int(minutes):02}:{int(seconds):02},{milliseconds:03}\"\n",
    "\n",
    "def whisper_transcribe(input_directory, output_directory):\n",
    "    model = whisper.load_model(\"large-v3\")\n",
    "\n",
    "    audio_files = [file for file in os.listdir(input_directory) if file.endswith('.flac')]  # Adjust the extension if needed\n",
    "\n",
    "    for audio_file in tqdm(audio_files, desc=\"Transcribing\"):\n",
    "        audio_path = os.path.join(input_directory, audio_file)\n",
    "        result = model.transcribe(audio_path, task=\"transcribe\", word_timestamps=True)\n",
    "\n",
    "        # Process and write SRT content\n",
    "        srt_content = []\n",
    "        counter = 1\n",
    "        for segment in result['segments']:\n",
    "            start_time_srt = convert_time_to_srt(segment['start'])\n",
    "\n",
    "            # Assign a default duration if the end timestamp is None\n",
    "            if segment['end'] is not None:\n",
    "                end_time_srt = convert_time_to_srt(segment['end'])\n",
    "            else:\n",
    "                # Assuming a default duration of 2 seconds\n",
    "                end_time_srt = convert_time_to_srt(segment['start'] + 2.0)\n",
    "            \n",
    "            transcript = segment['text'].strip()\n",
    "            srt_content.append(f\"{counter}\\n{start_time_srt} --> {end_time_srt}\\n{transcript}\")\n",
    "            counter += 1\n",
    "\n",
    "        srt_output = \"\\n\\n\".join(srt_content)  # Join segments with two newlines\n",
    "        srt_filename = os.path.splitext(audio_file)[0] + '.srt'\n",
    "        srt_path = os.path.join(output_directory, srt_filename)\n",
    "\n",
    "        with open(srt_path, 'w', encoding='utf-8') as srt_file:\n",
    "            srt_file.write(srt_output)\n",
    "        \n",
    "        print(f\"Generated SRT: {srt_filename}\")"
   ]
  },
  {
   "cell_type": "code",
   "execution_count": null,
   "metadata": {},
   "outputs": [],
   "source": [
    "whisper_transcribe(input_directory=audio_dir, output_directory=srt_dir)"
   ]
  },
  {
   "cell_type": "markdown",
   "metadata": {},
   "source": [
    "# Delete Extra Files"
   ]
  },
  {
   "cell_type": "code",
   "execution_count": null,
   "metadata": {},
   "outputs": [],
   "source": [
    "# Delete the directory and its contents if the directory exists\n",
    "if os.path.exists(audio_dir):\n",
    "    shutil.rmtree(audio_dir)"
   ]
  }
 ],
 "metadata": {
  "kernelspec": {
   "display_name": "Python 3",
   "language": "python",
   "name": "python3"
  },
  "language_info": {
   "codemirror_mode": {
    "name": "ipython",
    "version": 3
   },
   "file_extension": ".py",
   "mimetype": "text/x-python",
   "name": "python",
   "nbconvert_exporter": "python",
   "pygments_lexer": "ipython3",
   "version": "3.11.5"
  }
 },
 "nbformat": 4,
 "nbformat_minor": 2
}
