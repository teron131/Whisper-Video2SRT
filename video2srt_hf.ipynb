{
 "cells": [
  {
   "cell_type": "code",
   "execution_count": null,
   "metadata": {},
   "outputs": [],
   "source": [
    "import os\n",
    "import sys\n",
    "import shutil\n",
    "import torch\n",
    "from transformers import AutoModelForSpeechSeq2Seq, AutoProcessor, pipeline\n",
    "from tqdm import tqdm\n",
    "import opencc\n",
    "\n",
    "import warnings\n",
    "warnings.filterwarnings(\"ignore\")"
   ]
  },
  {
   "cell_type": "markdown",
   "metadata": {},
   "source": [
    "# Folders Creation"
   ]
  },
  {
   "cell_type": "code",
   "execution_count": null,
   "metadata": {},
   "outputs": [],
   "source": [
    "def get_base_path():\n",
    "    if getattr(sys, 'frozen', False):\n",
    "        # Running in a bundle (executable created by PyInstaller)\n",
    "        return os.path.dirname(sys.executable)\n",
    "    elif '__file__' in globals():\n",
    "        # Running in a script or packaged environment\n",
    "        return os.path.dirname(os.path.abspath(__file__))\n",
    "    else:\n",
    "        # Running in a Jupyter notebook\n",
    "        return os.getcwd()\n",
    "\n",
    "base_path = get_base_path()\n",
    "\n",
    "video_dir = base_path + \"/video_input/\"\n",
    "audio_dir = base_path + \"/audio_output/\"\n",
    "srt_dir = base_path + \"/srt_output/\"\n",
    "source_lang = \"chinese\"\n",
    "\n",
    "os.makedirs(audio_dir, exist_ok=True)\n",
    "os.makedirs(srt_dir, exist_ok=True)"
   ]
  },
  {
   "cell_type": "markdown",
   "metadata": {},
   "source": [
    "# Video to Audio: FFmpeg"
   ]
  },
  {
   "cell_type": "code",
   "execution_count": null,
   "metadata": {},
   "outputs": [],
   "source": [
    "def extract_audio_from_video(video_dir, audio_dir):\n",
    "    \"\"\"\n",
    "    Extracts audio from any file in the specified directory using ffmpeg. If the file \n",
    "    is not a video, ffmpeg will return an error. The extracted audio files are saved \n",
    "    in FLAC format in another directory.\n",
    "    \n",
    "    Args:\n",
    "    - video_dir (str): Directory containing the input files.\n",
    "    - audio_dir (str): Directory where the extracted audio files will be saved.\n",
    "\n",
    "    Returns:\n",
    "    - None\n",
    "    \"\"\"\n",
    "    \n",
    "    # Delete the directory and its contents if the directory exists\n",
    "    if os.path.exists(audio_dir):\n",
    "        shutil.rmtree(audio_dir)\n",
    "\n",
    "    # Create the output directory if it doesn't exist\n",
    "    if not os.path.exists(audio_dir):\n",
    "        os.makedirs(audio_dir)\n",
    "\n",
    "    video_files = [f for f in os.listdir(video_dir) if f != '.DS_Store']\n",
    "    for filename in tqdm(video_files, desc=\"Extracting audio\"):\n",
    "        print(filename)\n",
    "        video_file_path = os.path.join(video_dir, filename)\n",
    "        audio_file_name = os.path.splitext(filename)[0] + '.flac'\n",
    "        audio_file_path = os.path.join(audio_dir, audio_file_name)\n",
    "\n",
    "        # Convert video to audio using ffmpeg\n",
    "        os.system(f'ffmpeg -y -i \"{video_file_path}\" -q:a 0 -map a \"{audio_file_path}\" -hide_banner -loglevel error')\n",
    "\n",
    "        print(f\"Extracted audio from video: {filename}\")"
   ]
  },
  {
   "cell_type": "code",
   "execution_count": null,
   "metadata": {},
   "outputs": [],
   "source": [
    "extract_audio_from_video(video_dir=video_dir, audio_dir=audio_dir)"
   ]
  },
  {
   "cell_type": "markdown",
   "metadata": {},
   "source": [
    "# Transcription: Whisper"
   ]
  },
  {
   "cell_type": "code",
   "execution_count": null,
   "metadata": {},
   "outputs": [],
   "source": [
    "def convert_time_to_srt(seconds_float):\n",
    "    \"\"\"Converts a time in seconds to 'hh:mm:ss,ms' format for SRT.\"\"\"\n",
    "    hours, remainder = divmod(seconds_float, 3600)\n",
    "    minutes, seconds = divmod(remainder, 60)\n",
    "    seconds, milliseconds = divmod(seconds, 1)\n",
    "    milliseconds = int(milliseconds * 1000)\n",
    "    return f\"{int(hours):02}:{int(minutes):02}:{int(seconds):02},{milliseconds:03}\"\n",
    "\n",
    "def whisper_transcribe(input_directory, output_directory):\n",
    "    # Load HuggingFace Whisper model\n",
    "    device = \"cuda:0\" if torch.cuda.is_available() else (\"mps\" if torch.backends.mps.is_available() else \"cpu\")\n",
    "    torch_dtype = torch.float16 if torch.cuda.is_available() else torch.float32\n",
    "    print(f\"Using device: {device} ({torch_dtype})\")\n",
    "\n",
    "    model_id = \"openai/whisper-large-v3\"\n",
    "\n",
    "    model = AutoModelForSpeechSeq2Seq.from_pretrained(\n",
    "        model_id, torch_dtype=torch_dtype, low_cpu_mem_usage=True, use_safetensors=True\n",
    "    )\n",
    "    model.to(device)\n",
    "    processor = AutoProcessor.from_pretrained(model_id)\n",
    "\n",
    "    # Setup pipeline\n",
    "    pipe = pipeline(\n",
    "        \"automatic-speech-recognition\",\n",
    "        model=model,\n",
    "        tokenizer=processor.tokenizer,\n",
    "        feature_extractor=processor.feature_extractor,\n",
    "        max_new_tokens=128,\n",
    "        chunk_length_s=30,\n",
    "        batch_size=16,\n",
    "        return_timestamps=True,\n",
    "        torch_dtype=torch_dtype,\n",
    "        device=device,\n",
    "    )\n",
    "\n",
    "    # Process audio files\n",
    "    audio_files = [file for file in os.listdir(input_directory) if file.endswith('.flac')]  # Adjust the extension if needed\n",
    "    for audio_file in tqdm(audio_files, desc=\"Transcribing audio files\"):\n",
    "        audio_path = os.path.join(input_directory, audio_file)\n",
    "        result = pipe(audio_path, return_timestamps=True, generate_kwargs={\"language\": \"chinese\"})  # Adjust language if needed\n",
    "\n",
    "        # Process and write SRT content\n",
    "        srt_content = []\n",
    "        counter = 1\n",
    "        for chunk in result['chunks']:\n",
    "            start_time_srt = convert_time_to_srt(chunk['timestamp'][0])\n",
    "\n",
    "            # Assign a default duration if the end timestamp is None\n",
    "            if chunk['timestamp'][1] is not None:\n",
    "                end_time_srt = convert_time_to_srt(chunk['timestamp'][1])\n",
    "            else:\n",
    "                # Assuming a default duration of 2 seconds\n",
    "                end_time_srt = convert_time_to_srt(chunk['timestamp'][0] + 2.0)\n",
    "            \n",
    "            transcript = chunk['text'].strip()\n",
    "            srt_content.append(f\"{counter}\\n{start_time_srt} --> {end_time_srt}\\n{transcript}\")\n",
    "            counter += 1\n",
    "\n",
    "        srt_output = \"\\n\\n\".join(srt_content)\n",
    "        srt_filename = os.path.splitext(audio_file)[0] + '.srt'\n",
    "        srt_path = os.path.join(output_directory, srt_filename)\n",
    "\n",
    "        # Convert simplified Chinese to traditional Chinese\n",
    "        with open(srt_path, 'w', encoding='utf-8') as srt_file:\n",
    "            converter = opencc.OpenCC('s2hk')\n",
    "            converter.convert(srt_output)\n",
    "            srt_file.write(srt_output)\n",
    "\n",
    "        print(f\"Generated SRT: {srt_filename}\")"
   ]
  },
  {
   "cell_type": "code",
   "execution_count": null,
   "metadata": {},
   "outputs": [],
   "source": [
    "whisper_transcribe(input_directory=audio_dir, output_directory=srt_dir)"
   ]
  },
  {
   "cell_type": "markdown",
   "metadata": {},
   "source": [
    "# Delete Extra Files"
   ]
  },
  {
   "cell_type": "code",
   "execution_count": null,
   "metadata": {},
   "outputs": [],
   "source": [
    "# Delete the directory and its contents if the directory exists\n",
    "if os.path.exists(audio_dir):\n",
    "    shutil.rmtree(audio_dir)"
   ]
  }
 ],
 "metadata": {
  "kernelspec": {
   "display_name": "Python 3",
   "language": "python",
   "name": "python3"
  },
  "language_info": {
   "codemirror_mode": {
    "name": "ipython",
    "version": 3
   },
   "file_extension": ".py",
   "mimetype": "text/x-python",
   "name": "python",
   "nbconvert_exporter": "python",
   "pygments_lexer": "ipython3",
   "version": "3.11.6"
  }
 },
 "nbformat": 4,
 "nbformat_minor": 2
}
