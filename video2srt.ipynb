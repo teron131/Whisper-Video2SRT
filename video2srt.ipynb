{
 "cells": [
  {
   "cell_type": "code",
   "execution_count": 9,
   "metadata": {},
   "outputs": [],
   "source": [
    "import os\n",
    "import sys\n",
    "import shutil\n",
    "import whisper\n",
    "from tqdm import tqdm\n",
    "\n",
    "import warnings\n",
    "warnings.filterwarnings(\"ignore\")"
   ]
  },
  {
   "cell_type": "markdown",
   "metadata": {},
   "source": [
    "# Folders Creation"
   ]
  },
  {
   "cell_type": "code",
   "execution_count": 10,
   "metadata": {},
   "outputs": [],
   "source": [
    "def get_base_path():\n",
    "    if getattr(sys, 'frozen', False):\n",
    "        # Running in a bundle (executable created by PyInstaller)\n",
    "        return os.path.dirname(sys.executable)\n",
    "    elif '__file__' in globals():\n",
    "        # Running in a script or packaged environment\n",
    "        return os.path.dirname(os.path.abspath(__file__))\n",
    "    else:\n",
    "        # Running in a Jupyter notebook\n",
    "        return os.getcwd()\n",
    "\n",
    "base_path = get_base_path()\n",
    "\n",
    "video_dir = base_path + \"/video_input/\"\n",
    "audio_dir = base_path + \"/audio_output/\"\n",
    "srt_dir = base_path + \"/srt_output/\"\n",
    "source_lang = \"Cantonese\"\n",
    "\n",
    "os.makedirs(audio_dir, exist_ok=True)\n",
    "os.makedirs(srt_dir, exist_ok=True)"
   ]
  },
  {
   "cell_type": "markdown",
   "metadata": {},
   "source": [
    "# Video to Audio: FFmpeg"
   ]
  },
  {
   "cell_type": "code",
   "execution_count": 11,
   "metadata": {},
   "outputs": [],
   "source": [
    "def extract_audio_from_video(video_dir, audio_dir):\n",
    "    \"\"\"\n",
    "    Extracts audio from any file in the specified directory using ffmpeg. If the file \n",
    "    is not a video, ffmpeg will return an error. The extracted audio files are saved \n",
    "    in FLAC format in another directory.\n",
    "    \n",
    "    Args:\n",
    "    - video_dir (str): Directory containing the input files.\n",
    "    - audio_dir (str): Directory where the extracted audio files will be saved.\n",
    "\n",
    "    Returns:\n",
    "    - None\n",
    "    \"\"\"\n",
    "    \n",
    "    # Delete the directory and its contents if the directory exists\n",
    "    if os.path.exists(audio_dir):\n",
    "        shutil.rmtree(audio_dir)\n",
    "\n",
    "    # Create the output directory if it doesn't exist\n",
    "    if not os.path.exists(audio_dir):\n",
    "        os.makedirs(audio_dir)\n",
    "\n",
    "    video_files = [f for f in os.listdir(video_dir) if f != '.DS_Store']\n",
    "    for filename in tqdm(video_files, desc=\"Extracting audio\"):\n",
    "        print(filename)\n",
    "        video_file_path = os.path.join(video_dir, filename)\n",
    "        audio_file_name = os.path.splitext(filename)[0] + '.flac'\n",
    "        audio_file_path = os.path.join(audio_dir, audio_file_name)\n",
    "\n",
    "        # Convert video to audio using ffmpeg\n",
    "        os.system(f'ffmpeg -y -i \"{video_file_path}\" -q:a 0 -map a \"{audio_file_path}\" -hide_banner -loglevel error')\n",
    "\n",
    "        print(f\"Extracted audio from video: {filename}\")"
   ]
  },
  {
   "cell_type": "code",
   "execution_count": 12,
   "metadata": {},
   "outputs": [
    {
     "name": "stderr",
     "output_type": "stream",
     "text": [
      "Extracting audio:   0%|          | 0/9 [00:00<?, ?it/s]"
     ]
    },
    {
     "name": "stdout",
     "output_type": "stream",
     "text": [
      "007 周星馳 見家長.mp4\n"
     ]
    },
    {
     "name": "stderr",
     "output_type": "stream",
     "text": [
      "Extracting audio:  33%|███▎      | 3/9 [00:00<00:00,  6.93it/s]"
     ]
    },
    {
     "name": "stdout",
     "output_type": "stream",
     "text": [
      "Extracted audio from video: 007 周星馳 見家長.mp4\n",
      "file_example_MOV_1920_2_2MB.mov\n",
      "Extracted audio from video: file_example_MOV_1920_2_2MB.mov\n",
      "Now TV - 衛視電影台 - 《正義迴廊》.mp4\n",
      "Extracted audio from video: Now TV - 衛視電影台 - 《正義迴廊》.mp4\n",
      "sample3.m4a\n"
     ]
    },
    {
     "name": "stderr",
     "output_type": "stream",
     "text": [
      "Extracting audio:  56%|█████▌    | 5/9 [00:00<00:00,  5.99it/s]"
     ]
    },
    {
     "name": "stdout",
     "output_type": "stream",
     "text": [
      "Extracted audio from video: sample3.m4a\n",
      "sample_960x400_ocean_with_audio.m4v\n",
      "Extracted audio from video: sample_960x400_ocean_with_audio.m4v\n",
      "【周星馳】『粵語』我左青龍、右白虎，老牛在腰間，龍頭在胸口，人擋殺人，佛擋殺佛！《唐伯虎點秋香》 Flirting Scholar.mp4\n"
     ]
    },
    {
     "name": "stderr",
     "output_type": "stream",
     "text": [
      "Extracting audio:  67%|██████▋   | 6/9 [00:01<00:00,  3.92it/s]"
     ]
    },
    {
     "name": "stdout",
     "output_type": "stream",
     "text": [
      "Extracted audio from video: 【周星馳】『粵語』我左青龍、右白虎，老牛在腰間，龍頭在胸口，人擋殺人，佛擋殺佛！《唐伯虎點秋香》 Flirting Scholar.mp4\n",
      "周星驰搞笑片段 Part 1.mp4\n"
     ]
    },
    {
     "name": "stderr",
     "output_type": "stream",
     "text": [
      "Extracting audio:  78%|███████▊  | 7/9 [00:02<00:01,  1.87it/s]"
     ]
    },
    {
     "name": "stdout",
     "output_type": "stream",
     "text": [
      "Extracted audio from video: 周星驰搞笑片段 Part 1.mp4\n",
      "張國榮 - 《最愛是誰 My Dearest》MV.mp4\n"
     ]
    },
    {
     "name": "stderr",
     "output_type": "stream",
     "text": [
      "Extracting audio:  89%|████████▉ | 8/9 [00:03<00:00,  1.87it/s]"
     ]
    },
    {
     "name": "stdout",
     "output_type": "stream",
     "text": [
      "Extracted audio from video: 張國榮 - 《最愛是誰 My Dearest》MV.mp4\n",
      "陳奕迅FEAR AND DREAMS 香港演唱會｜第十五場 28 DEC ENCORE ｜《陀飛輪》.mp4\n"
     ]
    },
    {
     "name": "stderr",
     "output_type": "stream",
     "text": [
      "Extracting audio: 100%|██████████| 9/9 [00:03<00:00,  2.54it/s]"
     ]
    },
    {
     "name": "stdout",
     "output_type": "stream",
     "text": [
      "Extracted audio from video: 陳奕迅FEAR AND DREAMS 香港演唱會｜第十五場 28 DEC ENCORE ｜《陀飛輪》.mp4\n"
     ]
    },
    {
     "name": "stderr",
     "output_type": "stream",
     "text": [
      "\n"
     ]
    }
   ],
   "source": [
    "extract_audio_from_video(video_dir=video_dir, audio_dir=audio_dir)"
   ]
  },
  {
   "cell_type": "markdown",
   "metadata": {},
   "source": [
    "# Transcription: Whisper"
   ]
  },
  {
   "cell_type": "code",
   "execution_count": 13,
   "metadata": {},
   "outputs": [],
   "source": [
    "def convert_time_to_srt(seconds_float):\n",
    "    \"\"\"Converts a time in seconds to 'hh:mm:ss,ms' format for SRT.\"\"\"\n",
    "    hours, remainder = divmod(seconds_float, 3600)\n",
    "    minutes, seconds = divmod(remainder, 60)\n",
    "    seconds, milliseconds = divmod(seconds, 1)\n",
    "    milliseconds = int(milliseconds * 1000)\n",
    "    return f\"{int(hours):02}:{int(minutes):02}:{int(seconds):02},{milliseconds:03}\"\n",
    "\n",
    "def whisper_transcribe(input_directory, output_directory):\n",
    "    model = whisper.load_model(\"large-v3\")\n",
    "\n",
    "    audio_files = [file for file in os.listdir(input_directory) if file.endswith('.flac')]  # Adjust the extension if needed\n",
    "\n",
    "    for audio_file in tqdm(audio_files, desc=\"Transcribing\"):\n",
    "        audio_path = os.path.join(input_directory, audio_file)\n",
    "        result = model.transcribe(audio_path, task=\"transcribe\", word_timestamps=True)\n",
    "\n",
    "        # Process and write SRT content\n",
    "        srt_content = []\n",
    "        counter = 1\n",
    "        for segment in result['segments']:\n",
    "            start_time_srt = convert_time_to_srt(segment['start'])\n",
    "\n",
    "            # Assign a default duration if the end timestamp is None\n",
    "            if segment['end'] is not None:\n",
    "                end_time_srt = convert_time_to_srt(segment['end'])\n",
    "            else:\n",
    "                # Assuming a default duration of 2 seconds\n",
    "                end_time_srt = convert_time_to_srt(segment['start'] + 2.0)\n",
    "            \n",
    "            transcript = segment['text'].strip()\n",
    "            srt_content.append(f\"{counter}\\n{start_time_srt} --> {end_time_srt}\\n{transcript}\")\n",
    "            counter += 1\n",
    "\n",
    "        srt_output = \"\\n\\n\".join(srt_content)  # Join segments with two newlines\n",
    "        srt_filename = os.path.splitext(audio_file)[0] + '.srt'\n",
    "        srt_path = os.path.join(output_directory, srt_filename)\n",
    "\n",
    "        with open(srt_path, 'w', encoding='utf-8') as srt_file:\n",
    "            srt_file.write(srt_output)\n",
    "        \n",
    "        print(f\"Generated SRT: {srt_filename}\")"
   ]
  },
  {
   "cell_type": "code",
   "execution_count": 14,
   "metadata": {},
   "outputs": [
    {
     "name": "stderr",
     "output_type": "stream",
     "text": [
      "Transcribing:  11%|█         | 1/9 [00:44<05:53, 44.21s/it]"
     ]
    },
    {
     "name": "stdout",
     "output_type": "stream",
     "text": [
      "Generated SRT: 007 周星馳 見家長.srt\n"
     ]
    },
    {
     "name": "stderr",
     "output_type": "stream",
     "text": [
      "Transcribing:  22%|██▏       | 2/9 [00:45<02:13, 19.00s/it]"
     ]
    },
    {
     "name": "stdout",
     "output_type": "stream",
     "text": [
      "Generated SRT: file_example_MOV_1920_2_2MB.srt\n"
     ]
    },
    {
     "name": "stderr",
     "output_type": "stream",
     "text": [
      "Transcribing:  33%|███▎      | 3/9 [00:55<01:28, 14.78s/it]"
     ]
    },
    {
     "name": "stdout",
     "output_type": "stream",
     "text": [
      "Generated SRT: Now TV - 衛視電影台 - 《正義迴廊》.srt\n"
     ]
    },
    {
     "name": "stderr",
     "output_type": "stream",
     "text": [
      "Transcribing:  44%|████▍     | 4/9 [00:57<00:49,  9.93s/it]"
     ]
    },
    {
     "name": "stdout",
     "output_type": "stream",
     "text": [
      "Generated SRT: sample3.srt\n"
     ]
    },
    {
     "name": "stderr",
     "output_type": "stream",
     "text": [
      "Transcribing:  56%|█████▌    | 5/9 [01:44<01:32, 23.07s/it]"
     ]
    },
    {
     "name": "stdout",
     "output_type": "stream",
     "text": [
      "Generated SRT: sample_960x400_ocean_with_audio.srt\n"
     ]
    },
    {
     "name": "stderr",
     "output_type": "stream",
     "text": [
      "Transcribing:  67%|██████▋   | 6/9 [02:59<02:02, 40.79s/it]"
     ]
    },
    {
     "name": "stdout",
     "output_type": "stream",
     "text": [
      "Generated SRT: 【周星馳】『粵語』我左青龍、右白虎，老牛在腰間，龍頭在胸口，人擋殺人，佛擋殺佛！《唐伯虎點秋香》 Flirting Scholar.srt\n"
     ]
    },
    {
     "name": "stderr",
     "output_type": "stream",
     "text": [
      "Transcribing:  78%|███████▊  | 7/9 [06:02<02:54, 87.28s/it]"
     ]
    },
    {
     "name": "stdout",
     "output_type": "stream",
     "text": [
      "Generated SRT: 周星驰搞笑片段 Part 1.srt\n"
     ]
    },
    {
     "name": "stderr",
     "output_type": "stream",
     "text": [
      "Transcribing:  89%|████████▉ | 8/9 [06:20<01:05, 65.27s/it]"
     ]
    },
    {
     "name": "stdout",
     "output_type": "stream",
     "text": [
      "Generated SRT: 張國榮 - 《最愛是誰 My Dearest》MV.srt\n"
     ]
    },
    {
     "name": "stderr",
     "output_type": "stream",
     "text": [
      "Transcribing: 100%|██████████| 9/9 [07:58<00:00, 53.12s/it]"
     ]
    },
    {
     "name": "stdout",
     "output_type": "stream",
     "text": [
      "Generated SRT: 陳奕迅FEAR AND DREAMS 香港演唱會｜第十五場 28 DEC ENCORE ｜《陀飛輪》.srt\n"
     ]
    },
    {
     "name": "stderr",
     "output_type": "stream",
     "text": [
      "\n"
     ]
    }
   ],
   "source": [
    "whisper_transcribe(input_directory=audio_dir, output_directory=srt_dir)"
   ]
  },
  {
   "cell_type": "markdown",
   "metadata": {},
   "source": [
    "# Delete Extra Files"
   ]
  },
  {
   "cell_type": "code",
   "execution_count": 15,
   "metadata": {},
   "outputs": [],
   "source": [
    "# Delete the directory and its contents if the directory exists\n",
    "if os.path.exists(audio_dir):\n",
    "    shutil.rmtree(audio_dir)"
   ]
  }
 ],
 "metadata": {
  "kernelspec": {
   "display_name": "Python 3",
   "language": "python",
   "name": "python3"
  },
  "language_info": {
   "codemirror_mode": {
    "name": "ipython",
    "version": 3
   },
   "file_extension": ".py",
   "mimetype": "text/x-python",
   "name": "python",
   "nbconvert_exporter": "python",
   "pygments_lexer": "ipython3",
   "version": "3.11.3"
  }
 },
 "nbformat": 4,
 "nbformat_minor": 2
}
